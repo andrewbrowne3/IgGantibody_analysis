from Bio import PDB
structure = parser.get_structure('1IGY','1IGY.PDB')
chain_B = structure[0]['B']
polypeptide = PDB.Polypeptide.Polypeptide(chain_B)
sequence = polypeptide.get_sequence()
print(sequence)
from Bio.Seq import Seq
Fc_long_chain_monomer = Seq(sequence)
len(Fc_long_chain_monomer)
seq2count
plt.bar(seq2count.keys(),seq2count.values())
plt.xlabel('Amino Acids')
plt.ylabel('Number of Residue')
